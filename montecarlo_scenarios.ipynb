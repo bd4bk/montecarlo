{
 "cells": [
  {
   "cell_type": "markdown",
   "id": "e3ab034c-cc07-4f3c-92e6-f146c7009f57",
   "metadata": {},
   "source": [
    "# Monte Carlo Simulator Scenarios"
   ]
  },
  {
   "cell_type": "code",
   "execution_count": 1,
   "id": "eb4c10be-673b-4f37-bb5e-b50d385d30b2",
   "metadata": {},
   "outputs": [],
   "source": [
    "import numpy as np\n",
    "import pandas as pd\n",
    "import random\n",
    "import matplotlib.pyplot as plt\n",
    "from operator import concat\n",
    "\n",
    "from montecarlo import *"
   ]
  },
  {
   "cell_type": "markdown",
   "id": "0afbb2bf-b0c4-4ddf-a2b2-530164b21372",
   "metadata": {},
   "source": [
    "## Scenario 1 : 2-headed coin"
   ]
  },
  {
   "cell_type": "markdown",
   "id": "279b8bc2-ce25-4030-8ab2-4fc2aa5a4b76",
   "metadata": {},
   "source": [
    "### 1."
   ]
  },
  {
   "cell_type": "code",
   "execution_count": 2,
   "id": "b9e78e99-4461-4753-a513-940495019e4f",
   "metadata": {},
   "outputs": [],
   "source": [
    "fair_coin = Die([\"H\", \"T\"])\n",
    "unfair_coin = Die([\"H\",\"T\"])\n",
    "unfair_coin.w_change(\"H\",5)"
   ]
  },
  {
   "cell_type": "markdown",
   "id": "2785c582-622c-499b-9beb-aee728a3b72c",
   "metadata": {},
   "source": [
    "### 2. & 3."
   ]
  },
  {
   "cell_type": "code",
   "execution_count": 3,
   "id": "06e096a8-151a-459d-a66e-e3859d023492",
   "metadata": {},
   "outputs": [],
   "source": [
    "fair_game = Game([fair_coin, fair_coin, fair_coin])\n",
    "fair_game.play(1000)"
   ]
  },
  {
   "cell_type": "markdown",
   "id": "503a51a3-4e5a-462a-ab3e-535ed247376f",
   "metadata": {},
   "source": [
    "### 3."
   ]
  },
  {
   "cell_type": "code",
   "execution_count": 4,
   "id": "7611b1f4-0f16-4ad7-8ae5-f7bf7efcf059",
   "metadata": {},
   "outputs": [],
   "source": [
    "unfair_game = Game([unfair_coin, unfair_coin, fair_coin])\n",
    "unfair_game.play(1000)"
   ]
  },
  {
   "cell_type": "markdown",
   "id": "34b34cc7-b015-4e4a-a8a0-71bae5a72d29",
   "metadata": {},
   "source": [
    "### 4."
   ]
  },
  {
   "cell_type": "code",
   "execution_count": 5,
   "id": "c6ac5602-065b-4f42-be1c-14ed3d126df4",
   "metadata": {},
   "outputs": [],
   "source": [
    "fair_anal = Analyzer(fair_game)\n",
    "unfair_anal = Analyzer(unfair_game)\n",
    "fa_jackpots = fair_anal.jackpot()\n",
    "ua_jackpots = unfair_anal.jackpot()"
   ]
  },
  {
   "cell_type": "markdown",
   "id": "3bfe527f-000c-46e0-88f5-b4a8d898ae28",
   "metadata": {},
   "source": [
    "### 5."
   ]
  },
  {
   "cell_type": "code",
   "execution_count": 6,
   "id": "d6f1fa97-3ef1-4790-8adc-817d8f943f90",
   "metadata": {},
   "outputs": [
    {
     "name": "stdout",
     "output_type": "stream",
     "text": [
      "0.248\n",
      "0.344\n"
     ]
    }
   ],
   "source": [
    "print(fa_jackpots / 1000)\n",
    "print(ua_jackpots / 1000)"
   ]
  },
  {
   "cell_type": "markdown",
   "id": "75a0e85e-e0fc-49aa-af07-c8895051ffaa",
   "metadata": {},
   "source": [
    "### 6."
   ]
  },
  {
   "cell_type": "code",
   "execution_count": 7,
   "id": "5925588a-4ce6-4883-bf09-1e375407e852",
   "metadata": {},
   "outputs": [
    {
     "data": {
      "image/png": "[encoded data removed]",
      "text/plain": [
       "<Figure size 432x288 with 1 Axes>"
      ]
     },
     "metadata": {
      "needs_background": "light"
     },
     "output_type": "display_data"
    }
   ],
   "source": [
    "freq_dict = {\"Fair Dice Freq\":fa_jackpots / 1000, \"Unfair Dice Freq\": ua_jackpots / 1000}\n",
    "plt.bar(freq_dict.keys(), freq_dict.values());"
   ]
  },
  {
   "cell_type": "markdown",
   "id": "f8894f03-e930-44c7-9917-1903ef70fd6d",
   "metadata": {},
   "source": [
    "## Scenario 2 : 6-sided die"
   ]
  },
  {
   "cell_type": "markdown",
   "id": "1b50b9f1-127e-4c54-ab3d-10f14a46213c",
   "metadata": {},
   "source": [
    "### 1."
   ]
  },
  {
   "cell_type": "code",
   "execution_count": 8,
   "id": "4f31b07a-2efd-48e2-9914-7c924ef752fb",
   "metadata": {},
   "outputs": [],
   "source": [
    "fair_die = Die(list(range(1,7)))\n",
    "unfair_die1 = Die(list(range(1,7)))\n",
    "unfair_die1.w_change(6,5)\n",
    "unfair_die2 = Die(list(range(1,7)))\n",
    "unfair_die2.w_change(1,5)"
   ]
  },
  {
   "cell_type": "markdown",
   "id": "5ede41c6-97f4-48eb-b71d-5658d21eeb5f",
   "metadata": {},
   "source": [
    "### 2."
   ]
  },
  {
   "cell_type": "code",
   "execution_count": 9,
   "id": "83b84400-186e-4b5e-b7d8-5a17c74aafcb",
   "metadata": {},
   "outputs": [],
   "source": [
    "fair_game = Game([fair_die, fair_die, fair_die, fair_die, fair_die])\n",
    "fair_game.play(10000)"
   ]
  },
  {
   "cell_type": "markdown",
   "id": "61356822-3d07-45f1-b2f9-b7730ff04dc8",
   "metadata": {},
   "source": [
    "### 3."
   ]
  },
  {
   "cell_type": "code",
   "execution_count": 10,
   "id": "d2944833-19bb-48fd-ae6a-92c8e13a066e",
   "metadata": {},
   "outputs": [],
   "source": [
    "unfair_game = Game([unfair_die1, unfair_die2, fair_die, fair_die, fair_die])\n",
    "unfair_game.play(10000)"
   ]
  },
  {
   "cell_type": "code",
   "execution_count": 11,
   "id": "cd1acd22-07a6-40d8-a3b8-aa72a6ca5b62",
   "metadata": {},
   "outputs": [],
   "source": [
    "fair_anal = Analyzer(fair_game)\n",
    "unfair_anal = Analyzer(unfair_game)"
   ]
  },
  {
   "cell_type": "markdown",
   "id": "c228dd3a-94a5-41cb-97a7-0f6ffe771d5a",
   "metadata": {},
   "source": [
    "### 4."
   ]
  },
  {
   "cell_type": "code",
   "execution_count": 12,
   "id": "8f5d1e46-b43f-400f-8b0b-85264ac5ba07",
   "metadata": {},
   "outputs": [
    {
     "name": "stdout",
     "output_type": "stream",
     "text": [
      "0.0008\n",
      "0.0012\n"
     ]
    },
    {
     "data": {
      "image/png": "[encoded data removed]",
      "text/plain": [
       "<Figure size 432x288 with 1 Axes>"
      ]
     },
     "metadata": {
      "needs_background": "light"
     },
     "output_type": "display_data"
    }
   ],
   "source": [
    "fa_jackpots = fair_anal.jackpot()\n",
    "ua_jackpots = unfair_anal.jackpot()\n",
    "\n",
    "print(fa_jackpots / 10000)\n",
    "print(ua_jackpots / 10000)\n",
    "\n",
    "freq_dict = {\"Fair Dice Jackpot\\nRel. Frequency\":fa_jackpots / 10000, \"Unfair Dice Jackpot\\nRel. Frequency\": ua_jackpots / 10000}\n",
    "plt.bar(freq_dict.keys(), freq_dict.values());"
   ]
  },
  {
   "cell_type": "markdown",
   "id": "145a5a18-fe9f-4bd0-9d76-a8225e107afc",
   "metadata": {},
   "source": [
    "### 5."
   ]
  },
  {
   "cell_type": "code",
   "execution_count": 13,
   "id": "b6fa1d36-e7ca-4d81-a2b9-2ad2e36ddd9e",
   "metadata": {},
   "outputs": [
    {
     "data": {
      "image/png": "[encoded data removed]",
      "text/plain": [
       "<Figure size 432x288 with 1 Axes>"
      ]
     },
     "metadata": {
      "needs_background": "light"
     },
     "output_type": "display_data"
    }
   ],
   "source": [
    "fair_anal.combo()\n",
    "\n",
    "\n",
    "f_data= fair_anal.combo.head(10)\n",
    "x = f_data.values.tolist()\n",
    "y = f_data.index.tolist()\n",
    "x = [s[0] for s in x]\n",
    "y = [str(t) for t in y]\n",
    "\n",
    "plt.xticks(rotation='vertical')\n",
    "plt.bar(y,x);"
   ]
  },
  {
   "cell_type": "code",
   "execution_count": 14,
   "id": "c08a00e6-c136-49ef-b3d4-16aba4c13bb4",
   "metadata": {},
   "outputs": [
    {
     "data": {
      "image/png": "[encoded data removed]",
      "text/plain": [
       "<Figure size 432x288 with 1 Axes>"
      ]
     },
     "metadata": {
      "needs_background": "light"
     },
     "output_type": "display_data"
    }
   ],
   "source": [
    "unfair_anal.combo()\n",
    "u_data= unfair_anal.combo.head(10)\n",
    "x = u_data.values.tolist()\n",
    "y = u_data.index.tolist()\n",
    "x = [s[0] for s in x]\n",
    "y = [str(t) for t in y]\n",
    "\n",
    "plt.xticks(rotation='vertical')\n",
    "plt.bar(y,x);"
   ]
  },
  {
   "cell_type": "markdown",
   "id": "608e7ef5-b68d-4108-b527-14bf725b9ab4",
   "metadata": {},
   "source": [
    "## Scenario 3 : Alphabet"
   ]
  },
  {
   "cell_type": "markdown",
   "id": "02192344-ea53-446b-bc87-13af09540ace",
   "metadata": {},
   "source": [
    "### 1."
   ]
  },
  {
   "cell_type": "code",
   "execution_count": 15,
   "id": "c18e0193-2489-4685-80b8-9072090e5f04",
   "metadata": {},
   "outputs": [],
   "source": [
    "letter_weights = [8.4966, 2.072, 4.5388, 3.3844, 11.1607, \n",
    "                1.8121, 2.4705, 3.0034, 7.5448, 0.1965, \n",
    "                1.1016, 5.4893, 3.0129, 6.6544, 7.1635, \n",
    "                3.1671, 0.1962, 7.5809, 5.7351, 6.9509, \n",
    "                3.6308, 1.0074, 1.2899, 0.2902, 1.7779, \n",
    "                0.2722]\n",
    "\n",
    "letters = ['A', 'B', 'C', 'D', 'E', 'F', 'G', 'H', 'I', \n",
    "           'J', 'K', 'L', 'M', 'N', 'O', 'P', 'Q', 'R', \n",
    "           'S', 'T', 'U', 'V', 'W', 'X', 'Y', 'Z']"
   ]
  },
  {
   "cell_type": "code",
   "execution_count": 16,
   "id": "8aa027f5-d8d9-4cd1-88e4-ca52f289d59b",
   "metadata": {},
   "outputs": [],
   "source": [
    "alpha = Die(letters)\n",
    "\n",
    "for x in range(len(letter_weights)):\n",
    "    alpha.w_change(letters[x], letter_weights[x])"
   ]
  },
  {
   "cell_type": "markdown",
   "id": "f910e986-6d70-45e4-b9f7-8d302584591a",
   "metadata": {},
   "source": [
    "### 2."
   ]
  },
  {
   "cell_type": "code",
   "execution_count": 17,
   "id": "2f816dfb-3015-4410-9134-28e1641efd11",
   "metadata": {},
   "outputs": [],
   "source": [
    "alpha_game = Game([alpha, alpha, alpha, alpha, alpha])\n",
    "alpha_game.play(1000)"
   ]
  },
  {
   "cell_type": "markdown",
   "id": "7982760f-e91b-4231-88f5-61dc5993db25",
   "metadata": {
    "tags": []
   },
   "source": [
    "### 3."
   ]
  },
  {
   "cell_type": "code",
   "execution_count": 18,
   "id": "e6eb25f3-a57f-4dbe-83ff-c89f8b289726",
   "metadata": {
    "tags": []
   },
   "outputs": [
    {
     "name": "stdout",
     "output_type": "stream",
     "text": [
      "['primp']\n"
     ]
    }
   ],
   "source": [
    "combo = alpha_game.show().values.tolist()\n",
    "combo = [''.join(x).lower() for x in combo]\n",
    "\n",
    "from urllib.request import urlopen\n",
    "words = urlopen(\"https://www-cs-faculty.stanford.edu/~knuth/sgb-words.txt\")\n",
    "wordlist = [line.decode(\"utf-8\") for line in words]\n",
    "wordlist = [word[:-1] for word in wordlist]\n",
    "\n",
    "realwords = [i for i in combo if i in wordlist]\n",
    "print(realwords)\n",
    "\n",
    "#This will obviously return different values each time, but I get between 1 - 5 real words per 1000 rolls"
   ]
  },
  {
   "cell_type": "markdown",
   "id": "c61fa4a8-b9f5-4c02-b521-d76a66a032d3",
   "metadata": {},
   "source": [
    "##### This code will return a different number of words each time, but I get around 1-5 words per 1000 rolls"
   ]
  },
  {
   "cell_type": "markdown",
   "id": "3843e6a8-6f8c-4057-a79c-9aaaf70b3635",
   "metadata": {},
   "source": [
    "### 4."
   ]
  },
  {
   "cell_type": "markdown",
   "id": "0384b1f4-9e5d-4f17-8752-79076c7808ee",
   "metadata": {},
   "source": [
    "##### With an eye count, it appears like there are no words as it's very hard for us to spot the words out of all the nonsense"
   ]
  }
 ],
 "metadata": {
  "kernelspec": {
   "display_name": "Python 3 (ipykernel)",
   "language": "python",
   "name": "python3"
  },
  "language_info": {
   "codemirror_mode": {
    "name": "ipython",
    "version": 3
   },
   "file_extension": ".py",
   "mimetype": "text/x-python",
   "name": "python",
   "nbconvert_exporter": "python",
   "pygments_lexer": "ipython3",
   "version": "3.9.12"
  }
 },
 "nbformat": 4,
 "nbformat_minor": 5
}
